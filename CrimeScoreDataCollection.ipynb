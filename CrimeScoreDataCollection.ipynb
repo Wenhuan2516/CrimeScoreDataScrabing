{
 "cells": [
  {
   "cell_type": "code",
   "execution_count": 3,
   "id": "ce4e1ca4-a8a0-4556-8120-6a5913dc7071",
   "metadata": {},
   "outputs": [],
   "source": [
    "from pandas import DataFrame\n",
    "import requests\n",
    "from bs4 import BeautifulSoup\n",
    "from bs4 import Tag\n",
    "import re\n",
    "import csv\n",
    "import json"
   ]
  },
  {
   "cell_type": "code",
   "execution_count": 4,
   "id": "b6c4e927-58f6-494b-9024-c964231c003f",
   "metadata": {},
   "outputs": [],
   "source": [
    "with open('crimegrade.html') as f:\n",
    "    data = f.read().rstrip()"
   ]
  },
  {
   "cell_type": "code",
   "execution_count": 5,
   "id": "52219fd0-2704-46c4-8cdd-4afa78402c64",
   "metadata": {},
   "outputs": [],
   "source": [
    "import pandas as pd\n",
    "import requests\n",
    "from bs4 import BeautifulSoup as bs"
   ]
  },
  {
   "cell_type": "code",
   "execution_count": 6,
   "id": "49b6edd9-78a4-4838-a813-6152c1b68947",
   "metadata": {},
   "outputs": [],
   "source": [
    "soup = bs(data, \"html.parser\")\n",
    "content = soup.find(\"body\")"
   ]
  },
  {
   "cell_type": "code",
   "execution_count": 5,
   "id": "131db571-95af-4d34-b740-f7fbe6e8dd88",
   "metadata": {},
   "outputs": [
    {
     "data": {
      "text/plain": [
       "str"
      ]
     },
     "execution_count": 5,
     "metadata": {},
     "output_type": "execute_result"
    }
   ],
   "source": [
    "content =content.text\n",
    "type(content)"
   ]
  },
  {
   "cell_type": "code",
   "execution_count": 6,
   "id": "c28b0c67-5f5c-4a51-ac0f-cca037aac8b8",
   "metadata": {},
   "outputs": [],
   "source": [
    "content = content.replace(\"\\n\", \" \")"
   ]
  },
  {
   "cell_type": "code",
   "execution_count": 7,
   "id": "9e98ea37-ddf4-45bd-8c6c-33122af2238f",
   "metadata": {},
   "outputs": [],
   "source": [
    "content = ' '.join(content.split())"
   ]
  },
  {
   "cell_type": "code",
   "execution_count": 8,
   "id": "6e83a1cf-b896-427e-b097-6b6eb86d4b5e",
   "metadata": {},
   "outputs": [],
   "source": [
    "content = content.split(\" \")"
   ]
  },
  {
   "cell_type": "code",
   "execution_count": 9,
   "id": "461e5d49-9bc2-4581-8eec-bd57ddb2da1f",
   "metadata": {},
   "outputs": [
    {
     "data": {
      "text/plain": [
       "41961"
      ]
     },
     "execution_count": 9,
     "metadata": {},
     "output_type": "execute_result"
    }
   ],
   "source": [
    "len(content)"
   ]
  },
  {
   "cell_type": "code",
   "execution_count": 10,
   "id": "ec1c84e9-90fc-4173-906f-ff5a4aafac99",
   "metadata": {},
   "outputs": [
    {
     "data": {
      "text/plain": [
       "41960"
      ]
     },
     "execution_count": 10,
     "metadata": {},
     "output_type": "execute_result"
    }
   ],
   "source": [
    "content = content[1:]\n",
    "len(content)"
   ]
  },
  {
   "cell_type": "code",
   "execution_count": 11,
   "id": "fcc7ce30-98b0-42c7-bc6f-45946f3d9492",
   "metadata": {},
   "outputs": [],
   "source": [
    "def ZipAndCity(content):\n",
    "    addresses = []\n",
    "    for element in content:\n",
    "        address = element.split(\",\")\n",
    "        zipcode = address[0]\n",
    "        city = address[1]\n",
    "        newAddress = {\"Zipcode\": zipcode, \"City\": city}\n",
    "        addresses.append(newAddress)\n",
    "    return addresses"
   ]
  },
  {
   "cell_type": "code",
   "execution_count": 12,
   "id": "68b9c235-2602-4837-9473-630f70205c79",
   "metadata": {},
   "outputs": [
    {
     "data": {
      "text/plain": [
       "[{'Zipcode': '16820', 'City': 'aaronsburg-pa'},\n",
       " {'Zipcode': '36310', 'City': 'abbeville-al'},\n",
       " {'Zipcode': '31001', 'City': 'abbeville-ga'},\n",
       " {'Zipcode': '70510', 'City': 'abbeville-la'},\n",
       " {'Zipcode': '70511', 'City': 'abbeville-la'}]"
      ]
     },
     "execution_count": 12,
     "metadata": {},
     "output_type": "execute_result"
    }
   ],
   "source": [
    "addresses = ZipAndCity(content)\n",
    "addresses[:5]"
   ]
  },
  {
   "cell_type": "code",
   "execution_count": 13,
   "id": "774c8176-6040-4eed-a48e-9ce5d6bb2ebb",
   "metadata": {},
   "outputs": [
    {
     "data": {
      "text/plain": [
       "{'Zipcode': '16820', 'City': 'aaronsburg-pa'}"
      ]
     },
     "execution_count": 13,
     "metadata": {},
     "output_type": "execute_result"
    }
   ],
   "source": [
    "addresses[0]\n"
   ]
  },
  {
   "cell_type": "code",
   "execution_count": 14,
   "id": "a9e70284-04ba-4f53-969f-453afff2c6f5",
   "metadata": {},
   "outputs": [],
   "source": [
    "def findUrl(addresses):\n",
    "    totalUrls = []\n",
    "    for element in addresses:\n",
    "        city = element[\"City\"]\n",
    "        url = \"https://crimegrade.org/safest-places-in-\" + city + \"/\"\n",
    "        totalUrls.append(url)\n",
    "    return totalUrls"
   ]
  },
  {
   "cell_type": "code",
   "execution_count": 15,
   "id": "ef8d2be6-1bbe-4d64-a96e-306a524d663c",
   "metadata": {},
   "outputs": [],
   "source": [
    "def findSingleUrl(city):\n",
    "    url = \"https://crimegrade.org/safest-places-in-\" + city + \"/\"\n",
    "    return url"
   ]
  },
  {
   "cell_type": "code",
   "execution_count": 16,
   "id": "e34ffb55-9ddc-41b3-a5fe-acd5783b04cb",
   "metadata": {},
   "outputs": [],
   "source": [
    "totalUrls = findUrl(addresses)"
   ]
  },
  {
   "cell_type": "code",
   "execution_count": 17,
   "id": "bf01d669-ab8a-4a07-947f-3327f9b8d860",
   "metadata": {},
   "outputs": [
    {
     "data": {
      "text/plain": [
       "['https://crimegrade.org/safest-places-in-aaronsburg-pa/',\n",
       " 'https://crimegrade.org/safest-places-in-abbeville-al/',\n",
       " 'https://crimegrade.org/safest-places-in-abbeville-ga/',\n",
       " 'https://crimegrade.org/safest-places-in-abbeville-la/',\n",
       " 'https://crimegrade.org/safest-places-in-abbeville-la/',\n",
       " 'https://crimegrade.org/safest-places-in-abbeville-ms/',\n",
       " 'https://crimegrade.org/safest-places-in-abbeville-sc/',\n",
       " 'https://crimegrade.org/safest-places-in-abbot-me/',\n",
       " 'https://crimegrade.org/safest-places-in-abbotsford-wi/',\n",
       " 'https://crimegrade.org/safest-places-in-abbottstown-pa/']"
      ]
     },
     "execution_count": 17,
     "metadata": {},
     "output_type": "execute_result"
    }
   ],
   "source": [
    "totalUrls[:10]"
   ]
  },
  {
   "cell_type": "code",
   "execution_count": 18,
   "id": "5c4c9c2c-3382-4c06-a459-8d8c47762d0d",
   "metadata": {},
   "outputs": [],
   "source": [
    "def generate_soup(url):\n",
    "    response = requests.get(url)\n",
    "    html = response.text\n",
    "    return BeautifulSoup(html, \"html.parser\")"
   ]
  },
  {
   "cell_type": "code",
   "execution_count": 19,
   "id": "7aa2ce11-75b6-485f-914b-0846a3192dd8",
   "metadata": {},
   "outputs": [],
   "source": [
    "sampleUrl = \"https://crimegrade.org/safest-places-in-abbot-me/\""
   ]
  },
  {
   "cell_type": "code",
   "execution_count": 20,
   "id": "e7fdb99a-7814-4b1f-a0a9-1c3dc1ea5085",
   "metadata": {},
   "outputs": [],
   "source": [
    "from urllib.request import Request, urlopen\n",
    "req = Request(sampleUrl, headers={'User-Agent': 'Mozilla/5.0'})\n",
    "webpage = urlopen(req).read()\n",
    "soup = BeautifulSoup(webpage, \"html.parser\")"
   ]
  },
  {
   "cell_type": "code",
   "execution_count": 21,
   "id": "f24e1275-2e74-4350-8541-600b563c4051",
   "metadata": {},
   "outputs": [],
   "source": [
    "def generate_soup(url):\n",
    "    try:\n",
    "        req = Request(url, headers={'User-Agent': 'Mozilla/5.0'})\n",
    "        webpage = urlopen(req).read()\n",
    "        soup = BeautifulSoup(webpage, \"html.parser\")\n",
    "        return soup\n",
    "    except Exception as e:\n",
    "        print(url, e)"
   ]
  },
  {
   "cell_type": "code",
   "execution_count": 22,
   "id": "80156441-ce57-48d6-9153-1a66f39c2e8e",
   "metadata": {},
   "outputs": [
    {
     "name": "stdout",
     "output_type": "stream",
     "text": [
      "Violent Crime Grade\n",
      "A\n",
      "Property Crime Grade\n",
      "C\n",
      "Other Crime Grade\n",
      "A\n"
     ]
    }
   ],
   "source": [
    "scores = []\n",
    "dict1 = {}\n",
    "content1 = soup.find('div', {'class': 'one_half'})\n",
    "grade = content1.find('p', {'class': 'overallGradeLetter gradeBTxt'}).text\n",
    "overall = \"Overall Crime Grade\"\n",
    "rows = content1.findAll('tr')\n",
    "for element in rows:\n",
    "    if len(element.findAll('a'))>= 1:\n",
    "        crimeType = element.find('a').text\n",
    "    else:\n",
    "        crimeType = element.find('div', {'class': 'mtr-cell-content'}).text\n",
    "    print(crimeType)\n",
    "    crimeGrade = element.find('span').text\n",
    "    print(crimeGrade)\n",
    "    dict2 = {'CrimeType': crimeType, 'Grade':crimeGrade}\n",
    "    scores.append(dict2)"
   ]
  },
  {
   "cell_type": "code",
   "execution_count": 23,
   "id": "3baa1a21-3b59-4396-aae4-b6e6824540c0",
   "metadata": {},
   "outputs": [],
   "source": [
    "def findScores(soup):\n",
    "    scores = []\n",
    "    content1 = soup.find('div', {'class': 'one_half'})\n",
    "    grades = content1.select(\"p[class^=overallGradeLetter]\")\n",
    "    if len(grades) == 1:\n",
    "        grade = grades[0].text\n",
    "    overall = \"Overall Crime Grade\"\n",
    "    dict1 = {'CrimeType': overall, 'Grade':grade}\n",
    "    scores.append(dict1)\n",
    "    rows = content1.findAll('tr')\n",
    "    for element in rows:\n",
    "        if len(element.findAll('a'))>= 1:\n",
    "            crimeType = element.find('a').text\n",
    "        else:\n",
    "            crimeType = element.find('div', {'class': 'mtr-cell-content'}).text\n",
    "        crimeGrade = element.find('span').text\n",
    "        dict2 = {'CrimeType': crimeType, 'Grade':crimeGrade}\n",
    "        scores.append(dict2)\n",
    "    return scores"
   ]
  },
  {
   "cell_type": "code",
   "execution_count": 24,
   "id": "843ed7b8-43e2-411a-ab18-dc77699b4616",
   "metadata": {},
   "outputs": [],
   "source": [
    "scores = findScores(soup)"
   ]
  },
  {
   "cell_type": "code",
   "execution_count": 25,
   "id": "522540a4-35df-4f66-8ebe-fdbb7a940b7f",
   "metadata": {},
   "outputs": [
    {
     "data": {
      "text/plain": [
       "[{'CrimeType': 'Overall Crime Grade', 'Grade': 'B'},\n",
       " {'CrimeType': 'Violent Crime Grade', 'Grade': 'A'},\n",
       " {'CrimeType': 'Property Crime Grade', 'Grade': 'C'},\n",
       " {'CrimeType': 'Other Crime Grade', 'Grade': 'A'}]"
      ]
     },
     "execution_count": 25,
     "metadata": {},
     "output_type": "execute_result"
    }
   ],
   "source": [
    "scores"
   ]
  },
  {
   "cell_type": "code",
   "execution_count": 26,
   "id": "344a4807-41ba-4cd1-8e53-943e24755029",
   "metadata": {},
   "outputs": [
    {
     "data": {
      "text/plain": [
       "[{'CrimeType': 'Assault', 'CrimeRate': '0.0249'},\n",
       " {'CrimeType': 'Robbery', 'CrimeRate': '0.6940'},\n",
       " {'CrimeType': 'Rape', 'CrimeRate': '0.3188'},\n",
       " {'CrimeType': 'Murder', 'CrimeRate': '0.0151'},\n",
       " {'CrimeType': 'Theft', 'CrimeRate': '11.43'},\n",
       " {'CrimeType': 'Vehicle Theft', 'CrimeRate': '0.7051'},\n",
       " {'CrimeType': 'Burglary', 'CrimeRate': '3.792'},\n",
       " {'CrimeType': 'Arson', 'CrimeRate': '0.0451'},\n",
       " {'CrimeType': 'Kidnapping', 'CrimeRate': '0.1427'},\n",
       " {'CrimeType': 'Drug Crimes', 'CrimeRate': '0.1344'},\n",
       " {'CrimeType': 'Vandalism', 'CrimeRate': '2.751'},\n",
       " {'CrimeType': 'Identity Theft', 'CrimeRate': '1.361'},\n",
       " {'CrimeType': 'Animal Cruelty', 'CrimeRate': '0.0247'}]"
      ]
     },
     "execution_count": 26,
     "metadata": {},
     "output_type": "execute_result"
    }
   ],
   "source": [
    "tables = soup.findAll(\"div\", {'class': 'one_third'})\n",
    "detailedScores= []\n",
    "summaryScores = []\n",
    "for x in range(len(tables)):\n",
    "    rows = tables[x].findAll('tr')\n",
    "    if x < 2:\n",
    "        rows = rows[1:-1]\n",
    "    else:\n",
    "        rows = rows[1:]\n",
    "    for k in range(len(rows)):\n",
    "        if k < len(rows) - 1:\n",
    "            cells = rows[k].findAll('td')\n",
    "            crimeType = cells[0].find('div', {'class': 'mtr-cell-content'}).text\n",
    "            crimeGrade = cells[1].find('div', {'class': 'mtr-cell-content'}).text\n",
    "            grades = {\"CrimeType\": crimeType, 'CrimeRate': crimeGrade}\n",
    "            detailedScores.append(grades)\n",
    "        else:\n",
    "            cells = rows[k].findAll('td')\n",
    "            crimeType = cells[0].find('div', {'class': 'mtr-cell-content'}).text\n",
    "            crimeGrade = cells[1].find('div', {'class': 'mtr-cell-content'}).text\n",
    "            crimeRate = crimeGrade.split(\" \")\n",
    "            rate = crimeRate[0]\n",
    "            grade = crimeRate[1][1]\n",
    "            grades = {\"CrimeType\": crimeType, 'CrimeRate': rate, 'CrimeGrade': grade}\n",
    "            summaryScores.append(grades)\n",
    "            \n",
    "detailedScores"
   ]
  },
  {
   "cell_type": "code",
   "execution_count": 27,
   "id": "769650c7-fbfb-4305-a30b-7975d6390add",
   "metadata": {},
   "outputs": [
    {
     "data": {
      "text/plain": [
       "[{'CrimeType': 'Total Violent Crime', 'CrimeRate': '1.053', 'CrimeGrade': 'A'},\n",
       " {'CrimeType': 'Total Property Crime',\n",
       "  'CrimeRate': '15.97',\n",
       "  'CrimeGrade': 'C'},\n",
       " {'CrimeType': 'Total “Other” Rate', 'CrimeRate': '4.413', 'CrimeGrade': 'A'}]"
      ]
     },
     "execution_count": 27,
     "metadata": {},
     "output_type": "execute_result"
    }
   ],
   "source": [
    "summaryScores"
   ]
  },
  {
   "cell_type": "code",
   "execution_count": 28,
   "id": "5bd157d3-860e-4283-8f44-910589624a0a",
   "metadata": {},
   "outputs": [],
   "source": [
    "def findDetailedScores(soup):\n",
    "    tables = soup.findAll(\"div\", {'class': 'one_third'})\n",
    "    detailedScores= []\n",
    "    for x in range(len(tables)):\n",
    "        rows = tables[x].findAll('tr')\n",
    "        if x < 2:\n",
    "            rows = rows[1:-1]\n",
    "        else:\n",
    "            rows = rows[1:]\n",
    "        for k in range(len(rows)):\n",
    "            if k < len(rows) - 1:\n",
    "                cells = rows[k].findAll('td')\n",
    "                crimeType = cells[0].find('div', {'class': 'mtr-cell-content'}).text\n",
    "                crimeGrade = cells[1].find('div', {'class': 'mtr-cell-content'}).text\n",
    "                grades = {\"CrimeType\": crimeType, 'CrimeRate': crimeGrade}\n",
    "                detailedScores.append(grades)\n",
    "    return detailedScores"
   ]
  },
  {
   "cell_type": "code",
   "execution_count": 29,
   "id": "065b5dc6-c08c-42a4-adce-bc76ccb608dc",
   "metadata": {},
   "outputs": [],
   "source": [
    "def findSummaryScores(soup):\n",
    "    tables = soup.findAll(\"div\", {'class': 'one_third'})\n",
    "    summaryScores = []\n",
    "    for x in range(len(tables)):\n",
    "        rows = tables[x].findAll('tr')\n",
    "        if x < 2:\n",
    "            rows = rows[1:-1]\n",
    "        else:\n",
    "            rows = rows[1:]\n",
    "        for k in range(len(rows)):\n",
    "            if k == len(rows) - 1:\n",
    "                cells = rows[k].findAll('td')\n",
    "                crimeType = cells[0].find('div', {'class': 'mtr-cell-content'}).text\n",
    "                crimeGrade = cells[1].find('div', {'class': 'mtr-cell-content'}).text\n",
    "                crimeRate = crimeGrade.split(\" \")\n",
    "                rate = crimeRate[0]\n",
    "                grade = crimeRate[1][1]\n",
    "                grades = {\"CrimeType\": crimeType, 'CrimeRate': rate, 'CrimeGrade': grade}\n",
    "                summaryScores.append(grades)\n",
    "    return summaryScores"
   ]
  },
  {
   "cell_type": "code",
   "execution_count": null,
   "id": "07710414-2392-4920-8638-b997b9e67fa4",
   "metadata": {},
   "outputs": [],
   "source": []
  },
  {
   "cell_type": "code",
   "execution_count": 30,
   "id": "ef47a4a6-cadc-42c4-abdd-80b6e2afc948",
   "metadata": {},
   "outputs": [
    {
     "data": {
      "text/plain": [
       "[{'CrimeType': 'Overall Crime Grade', 'Grade': 'B'},\n",
       " {'CrimeType': 'Violent Crime Grade', 'Grade': 'A'},\n",
       " {'CrimeType': 'Property Crime Grade', 'Grade': 'C'},\n",
       " {'CrimeType': 'Other Crime Grade', 'Grade': 'A'}]"
      ]
     },
     "execution_count": 30,
     "metadata": {},
     "output_type": "execute_result"
    }
   ],
   "source": [
    "scores"
   ]
  },
  {
   "cell_type": "code",
   "execution_count": 31,
   "id": "6fc9b765-f705-4be6-81e6-dc26516ce5a1",
   "metadata": {},
   "outputs": [
    {
     "data": {
      "text/plain": [
       "[{'CrimeType': 'Total Violent Crime', 'CrimeRate': '1.053', 'CrimeGrade': 'A'},\n",
       " {'CrimeType': 'Total Property Crime',\n",
       "  'CrimeRate': '15.97',\n",
       "  'CrimeGrade': 'C'},\n",
       " {'CrimeType': 'Total “Other” Rate', 'CrimeRate': '4.413', 'CrimeGrade': 'A'}]"
      ]
     },
     "execution_count": 31,
     "metadata": {},
     "output_type": "execute_result"
    }
   ],
   "source": [
    "summaryScores"
   ]
  },
  {
   "cell_type": "code",
   "execution_count": null,
   "id": "9dfb0fc6-04c5-4a17-bf7a-68ac13a11bc6",
   "metadata": {},
   "outputs": [],
   "source": []
  },
  {
   "cell_type": "code",
   "execution_count": 1,
   "id": "10c83b47-e8e0-47c1-a7e9-dc51e1e917ee",
   "metadata": {},
   "outputs": [],
   "source": [
    "def updateSummaryScores(scores, summaryScores):\n",
    "    overallRate = 0\n",
    "    for element in summaryScores:\n",
    "        grade = element['CrimeRate']\n",
    "        if ',' in grade:\n",
    "            grade = grade.replace(',', '')\n",
    "        overallRate = overallRate + float(grade)\n",
    "\n",
    "    overall = {'CrimeType': \"Total Crime\", 'CrimeRate': str(overallRate), 'CrimeGrade': scores[0]['Grade']}\n",
    "    summaryScores.append(overall)\n",
    "    return summaryScores"
   ]
  },
  {
   "cell_type": "code",
   "execution_count": 33,
   "id": "84d88be5-f331-4d79-86e5-85b6ea1435bd",
   "metadata": {},
   "outputs": [
    {
     "data": {
      "text/plain": [
       "[{'CrimeType': 'Total Violent Crime', 'CrimeRate': '1.053', 'CrimeGrade': 'A'},\n",
       " {'CrimeType': 'Total Property Crime',\n",
       "  'CrimeRate': '15.97',\n",
       "  'CrimeGrade': 'C'},\n",
       " {'CrimeType': 'Total “Other” Rate', 'CrimeRate': '4.413', 'CrimeGrade': 'A'},\n",
       " {'CrimeType': 'Total Crime', 'CrimeRate': '21.436', 'CrimeGrade': 'B'}]"
      ]
     },
     "execution_count": 33,
     "metadata": {},
     "output_type": "execute_result"
    }
   ],
   "source": [
    "newSummaryScores = updateSummaryScores(scores, summaryScores)\n",
    "newSummaryScores"
   ]
  },
  {
   "cell_type": "code",
   "execution_count": 34,
   "id": "6ae039d8-66f1-45f2-9981-aada2d748a12",
   "metadata": {},
   "outputs": [
    {
     "data": {
      "text/plain": [
       "'Assault'"
      ]
     },
     "execution_count": 34,
     "metadata": {},
     "output_type": "execute_result"
    }
   ],
   "source": [
    "detailedScores[0][\"CrimeType\"]"
   ]
  },
  {
   "cell_type": "code",
   "execution_count": 35,
   "id": "65891106-8a65-4f44-809a-9bde30392fd8",
   "metadata": {},
   "outputs": [
    {
     "data": {
      "text/plain": [
       "{'Assault': '0.0249',\n",
       " 'Robbery': '0.6940',\n",
       " 'Rape': '0.3188',\n",
       " 'Murder': '0.0151',\n",
       " 'Theft': '11.43',\n",
       " 'Vehicle Theft': '0.7051',\n",
       " 'Burglary': '3.792',\n",
       " 'Arson': '0.0451',\n",
       " 'Kidnapping': '0.1427',\n",
       " 'Drug Crimes': '0.1344',\n",
       " 'Vandalism': '2.751',\n",
       " 'Identity Theft': '1.361',\n",
       " 'Animal Cruelty': '0.0247',\n",
       " 'Total Violent Crime': '1.053',\n",
       " 'Total Violent Crime Grade': 'A',\n",
       " 'Total Property Crime': '15.97',\n",
       " 'Total Property Crime Grade': 'C',\n",
       " 'Total “Other” Rate': '4.413',\n",
       " 'Total “Other” Rate Grade': 'A',\n",
       " 'Total Crime': '21.436',\n",
       " 'Total Crime Grade': 'B'}"
      ]
     },
     "execution_count": 35,
     "metadata": {},
     "output_type": "execute_result"
    }
   ],
   "source": [
    "dict2 = {}\n",
    "for element in detailedScores:\n",
    "    key = element[\"CrimeType\"]\n",
    "    dict2[key] = element[\"CrimeRate\"]\n",
    "for element in newSummaryScores:\n",
    "    dict2[element[\"CrimeType\"]] = element[\"CrimeRate\"]\n",
    "    newKey = element[\"CrimeType\"] + \" \" + \"Grade\"\n",
    "    dict2[newKey] = element[\"CrimeGrade\"]\n",
    "    \n",
    "dict2"
   ]
  },
  {
   "cell_type": "code",
   "execution_count": 36,
   "id": "74919dda-b576-453e-8d93-d0825ec82385",
   "metadata": {},
   "outputs": [],
   "source": [
    "def findTotalScores(soup):\n",
    "    scores = findScores(soup)\n",
    "    detailedScores = findDetailedScores(soup)\n",
    "    summaryScores = findSummaryScores(soup)\n",
    "    newSummaryScores = updateSummaryScores(scores, summaryScores)\n",
    "    dict2 = {}\n",
    "    for element in detailedScores:\n",
    "        key = element[\"CrimeType\"]\n",
    "        dict2[key] = element[\"CrimeRate\"]\n",
    "    for element in newSummaryScores:\n",
    "        dict2[element[\"CrimeType\"]] = element[\"CrimeRate\"]\n",
    "        newKey = element[\"CrimeType\"] + \" \" + \"Grade\"\n",
    "        dict2[newKey] = element[\"CrimeGrade\"]\n",
    "    return dict2"
   ]
  },
  {
   "cell_type": "code",
   "execution_count": null,
   "id": "ec1958c1-9f3c-4b95-b162-3fbe3fc1a30f",
   "metadata": {},
   "outputs": [],
   "source": []
  },
  {
   "cell_type": "code",
   "execution_count": 37,
   "id": "654d265d-8e4b-4fcc-b626-a9f878c58974",
   "metadata": {},
   "outputs": [
    {
     "data": {
      "text/plain": [
       "['https://crimegrade.org/safest-places-in-aaronsburg-pa/',\n",
       " 'https://crimegrade.org/safest-places-in-abbeville-al/',\n",
       " 'https://crimegrade.org/safest-places-in-abbeville-ga/',\n",
       " 'https://crimegrade.org/safest-places-in-abbeville-la/',\n",
       " 'https://crimegrade.org/safest-places-in-abbeville-la/']"
      ]
     },
     "execution_count": 37,
     "metadata": {},
     "output_type": "execute_result"
    }
   ],
   "source": [
    "totalUrls[:5]"
   ]
  },
  {
   "cell_type": "code",
   "execution_count": 38,
   "id": "8976b474-79a3-4344-9ae2-26ebcfad70d7",
   "metadata": {},
   "outputs": [
    {
     "data": {
      "text/plain": [
       "[{'Zipcode': '16820', 'City': 'aaronsburg-pa'},\n",
       " {'Zipcode': '36310', 'City': 'abbeville-al'},\n",
       " {'Zipcode': '31001', 'City': 'abbeville-ga'},\n",
       " {'Zipcode': '70510', 'City': 'abbeville-la'},\n",
       " {'Zipcode': '70511', 'City': 'abbeville-la'}]"
      ]
     },
     "execution_count": 38,
     "metadata": {},
     "output_type": "execute_result"
    }
   ],
   "source": [
    "addresses[:5]"
   ]
  },
  {
   "cell_type": "code",
   "execution_count": 39,
   "id": "acd8a144-9aff-4c6b-aee4-b57647f8dbcf",
   "metadata": {},
   "outputs": [],
   "source": [
    "addressList = []\n",
    "for element in addresses:\n",
    "    address = element['City']\n",
    "    addressList.append(address)"
   ]
  },
  {
   "cell_type": "code",
   "execution_count": 40,
   "id": "bb0e860d-e8d6-4ea9-8691-2dee8ee7aa02",
   "metadata": {
    "tags": []
   },
   "outputs": [],
   "source": [
    "def generateData(addresses):\n",
    "    data = []\n",
    "    for address in addresses:\n",
    "        zipcode = address[\"Zipcode\"]\n",
    "        city = address[\"City\"]\n",
    "        url = findSingleUrl(city)\n",
    "        soup = generate_soup(url)\n",
    "        if soup != None:\n",
    "            dict2 = findTotalScores(soup)\n",
    "            dict2[\"Zipcode\"] = zipcode\n",
    "            dict2[\"City\"] = city\n",
    "            data.append(dict2)\n",
    "    return data"
   ]
  },
  {
   "cell_type": "code",
   "execution_count": 41,
   "id": "6c9fc545-c4e6-4957-997c-6d9bcdd4859e",
   "metadata": {},
   "outputs": [
    {
     "data": {
      "text/plain": [
       "41960"
      ]
     },
     "execution_count": 41,
     "metadata": {},
     "output_type": "execute_result"
    }
   ],
   "source": [
    "len(addresses)"
   ]
  },
  {
   "cell_type": "code",
   "execution_count": 122,
   "id": "1d3d9a3b-0eb3-4c43-9413-28b55f985fb7",
   "metadata": {},
   "outputs": [],
   "source": [
    "list1 = addresses[:2000]\n",
    "list2 = addresses[:4000]"
   ]
  },
  {
   "cell_type": "code",
   "execution_count": 123,
   "id": "42854b6b-49e8-4d59-aecc-ad41c6118f5d",
   "metadata": {},
   "outputs": [],
   "source": [
    "list1 = addresses[:1000]"
   ]
  },
  {
   "cell_type": "code",
   "execution_count": 124,
   "id": "2ffee9f9-7e18-4968-b272-ad83fddbcf48",
   "metadata": {},
   "outputs": [
    {
     "data": {
      "text/plain": [
       "[{'Assault': '0.3893',\n",
       "  'Robbery': '0.0751',\n",
       "  'Rape': '0.3315',\n",
       "  'Murder': '0.0451',\n",
       "  'Theft': '3.027',\n",
       "  'Vehicle Theft': '0.7065',\n",
       "  'Burglary': '3.127',\n",
       "  'Arson': '0.0110',\n",
       "  'Kidnapping': '0.2651',\n",
       "  'Drug Crimes': '0.4330',\n",
       "  'Vandalism': '3.829',\n",
       "  'Identity Theft': '1.514',\n",
       "  'Animal Cruelty': '0.0063',\n",
       "  'Total Violent Crime': '0.8410',\n",
       "  'Total Violent Crime Grade': 'A',\n",
       "  'Total Property Crime': '6.872',\n",
       "  'Total Property Crime Grade': 'A',\n",
       "  'Total “Other” Rate': '6.047',\n",
       "  'Total “Other” Rate Grade': 'B',\n",
       "  'Total Crime': '13.76',\n",
       "  'Total Crime Grade': 'A',\n",
       "  'Zipcode': '16820',\n",
       "  'City': 'aaronsburg-pa'},\n",
       " {'Assault': '3.300',\n",
       "  'Robbery': '0.7257',\n",
       "  'Rape': '0.4133',\n",
       "  'Murder': '0.0609',\n",
       "  'Theft': '10.81',\n",
       "  'Vehicle Theft': '0.5586',\n",
       "  'Burglary': '9.105',\n",
       "  'Arson': '0.0689',\n",
       "  'Kidnapping': '0.1354',\n",
       "  'Drug Crimes': '5.078',\n",
       "  'Vandalism': '17.12',\n",
       "  'Identity Theft': '0.7516',\n",
       "  'Animal Cruelty': '0.1409',\n",
       "  'Total Violent Crime': '4.500',\n",
       "  'Total Violent Crime Grade': 'D',\n",
       "  'Total Property Crime': '20.55',\n",
       "  'Total Property Crime Grade': 'D',\n",
       "  'Total “Other” Rate': '23.23',\n",
       "  'Total “Other” Rate Grade': 'D',\n",
       "  'Total Crime': '48.28',\n",
       "  'Total Crime Grade': 'D',\n",
       "  'Zipcode': '36310',\n",
       "  'City': 'abbeville-al'},\n",
       " {'Assault': '6.971',\n",
       "  'Robbery': '1.845',\n",
       "  'Rape': '0.2616',\n",
       "  'Murder': '0.0273',\n",
       "  'Theft': '81.18',\n",
       "  'Vehicle Theft': '1.965',\n",
       "  'Burglary': '7.039',\n",
       "  'Arson': '0.1730',\n",
       "  'Kidnapping': '0.6977',\n",
       "  'Drug Crimes': '10.77',\n",
       "  'Vandalism': '1.868',\n",
       "  'Identity Theft': '0.7889',\n",
       "  'Animal Cruelty': '0.0174',\n",
       "  'Total Violent Crime': '9.105',\n",
       "  'Total Violent Crime Grade': 'F',\n",
       "  'Total Property Crime': '90.36',\n",
       "  'Total Property Crime Grade': 'F',\n",
       "  'Total “Other” Rate': '14.14',\n",
       "  'Total “Other” Rate Grade': 'D',\n",
       "  'Total Crime': '113.605',\n",
       "  'Total Crime Grade': 'F',\n",
       "  'Zipcode': '31001',\n",
       "  'City': 'abbeville-ga'}]"
      ]
     },
     "execution_count": 124,
     "metadata": {},
     "output_type": "execute_result"
    }
   ],
   "source": [
    "data1 = generateData(list1)\n",
    "data1[:3]"
   ]
  },
  {
   "cell_type": "code",
   "execution_count": 43,
   "id": "5af170c9-a3e3-40ab-af2d-fa7288e7bd7c",
   "metadata": {},
   "outputs": [],
   "source": [
    "col_names = ['Assault','Robbery','Rape','Murder','Theft','Vehicle Theft','Burglary','Arson','Kidnapping',\n",
    "             'Drug Crimes','Vandalism','Identity Theft','Animal Cruelty','Total Violent Crime',\n",
    "             'Total Violent Crime Grade','Total Property Crime','Total Property Crime Grade','Total “Other” Rate',\n",
    "             'Total “Other” Rate Grade','Total Crime','Total Crime Grade','Zipcode','City']"
   ]
  },
  {
   "cell_type": "code",
   "execution_count": 126,
   "id": "230e6eb8-e37a-4b56-a794-e7654977615d",
   "metadata": {},
   "outputs": [],
   "source": [
    "with open(\"CrimeGrade_1.csv\", 'w') as csvFile:\n",
    "        wr = csv.DictWriter(csvFile, fieldnames=col_names)\n",
    "        wr.writeheader()\n",
    "        for ele in data1:\n",
    "            wr.writerow(ele)"
   ]
  },
  {
   "cell_type": "code",
   "execution_count": 69,
   "id": "4f000187-7f22-49a9-b2c1-69fa7ceb978c",
   "metadata": {},
   "outputs": [
    {
     "data": {
      "text/plain": [
       "[{'Assault': '0.6189',\n",
       "  'Robbery': '0.6106',\n",
       "  'Rape': '0.4312',\n",
       "  'Murder': '0.0153',\n",
       "  'Theft': '8.330',\n",
       "  'Vehicle Theft': '0.8118',\n",
       "  'Burglary': '2.860',\n",
       "  'Arson': '0.0545',\n",
       "  'Kidnapping': '0.0316',\n",
       "  'Drug Crimes': '0.6338',\n",
       "  'Vandalism': '3.983',\n",
       "  'Identity Theft': '1.094',\n",
       "  'Animal Cruelty': '0.0330',\n",
       "  'Total Violent Crime': '1.676',\n",
       "  'Total Violent Crime Grade': 'B',\n",
       "  'Total Property Crime': '12.06',\n",
       "  'Total Property Crime Grade': 'B',\n",
       "  'Total “Other” Rate': '5.775',\n",
       "  'Total “Other” Rate Grade': 'B',\n",
       "  'Total Crime': '19.511000000000003',\n",
       "  'Total Crime Grade': 'B+',\n",
       "  'Zipcode': '55302',\n",
       "  'City': 'annandale-mn'},\n",
       " {'Assault': '0.1056',\n",
       "  'Robbery': '0.6788',\n",
       "  'Rape': '0.1389',\n",
       "  'Murder': '0.0189',\n",
       "  'Theft': '1.904',\n",
       "  'Vehicle Theft': '0.1685',\n",
       "  'Burglary': '1.153',\n",
       "  'Arson': '0.0063',\n",
       "  'Kidnapping': '0.0799',\n",
       "  'Drug Crimes': '2.867',\n",
       "  'Vandalism': '0.8332',\n",
       "  'Identity Theft': '1.295',\n",
       "  'Animal Cruelty': '0.0117',\n",
       "  'Total Violent Crime': '0.9421',\n",
       "  'Total Violent Crime Grade': 'A',\n",
       "  'Total Property Crime': '3.232',\n",
       "  'Total Property Crime Grade': 'A',\n",
       "  'Total “Other” Rate': '5.087',\n",
       "  'Total “Other” Rate Grade': 'A',\n",
       "  'Total Crime': '9.261099999999999',\n",
       "  'Total Crime Grade': 'A+',\n",
       "  'Zipcode': '08801',\n",
       "  'City': 'annandale-nj'}]"
      ]
     },
     "execution_count": 69,
     "metadata": {},
     "output_type": "execute_result"
    }
   ],
   "source": [
    "list2 = addresses[1000:2000]\n",
    "data2 = generateData(list2)\n",
    "data2[:2]"
   ]
  },
  {
   "cell_type": "code",
   "execution_count": 70,
   "id": "cce045c3-f3e6-4623-9b84-2e194cfb4ded",
   "metadata": {},
   "outputs": [],
   "source": [
    "with open(\"CrimeGrade_2.csv\", 'w') as csvFile:\n",
    "        wr = csv.DictWriter(csvFile, fieldnames=col_names)\n",
    "        wr.writeheader()\n",
    "        for ele in data2:\n",
    "            wr.writerow(ele)"
   ]
  },
  {
   "cell_type": "code",
   "execution_count": 71,
   "id": "f6f5be63-4b8d-4ed7-863c-63dde4efe1bc",
   "metadata": {},
   "outputs": [],
   "source": [
    "list3 = addresses[2000:3000]\n",
    "data3 = generateData(list3)\n",
    "with open(\"CrimeGrade_3.csv\", 'w') as csvFile:\n",
    "        wr = csv.DictWriter(csvFile, fieldnames=col_names)\n",
    "        wr.writeheader()\n",
    "        for ele in data3:\n",
    "            wr.writerow(ele)"
   ]
  },
  {
   "cell_type": "code",
   "execution_count": 73,
   "id": "2baf0c34-22b6-4c6a-9c54-2dc51f371ad9",
   "metadata": {},
   "outputs": [],
   "source": [
    "list4 = addresses[3000:4000]\n",
    "data4 = generateData(list4)\n",
    "with open(\"CrimeGrade_4.csv\", 'w') as csvFile:\n",
    "        wr = csv.DictWriter(csvFile, fieldnames=col_names)\n",
    "        wr.writeheader()\n",
    "        for ele in data4:\n",
    "            wr.writerow(ele)"
   ]
  },
  {
   "cell_type": "code",
   "execution_count": 74,
   "id": "8e8c03ef-770f-45af-bcc4-fa0cb8cabb80",
   "metadata": {},
   "outputs": [],
   "source": [
    "list5 = addresses[4000:5000]\n",
    "data5 = generateData(list5)\n",
    "with open(\"CrimeGrade_5.csv\", 'w') as csvFile:\n",
    "        wr = csv.DictWriter(csvFile, fieldnames=col_names)\n",
    "        wr.writeheader()\n",
    "        for ele in data5:\n",
    "            wr.writerow(ele)"
   ]
  },
  {
   "cell_type": "code",
   "execution_count": 75,
   "id": "6fabdc93-9503-4cc3-9123-8a1f24f70220",
   "metadata": {},
   "outputs": [],
   "source": [
    "list6 = addresses[5000:6000]\n",
    "data6 = generateData(list6)\n",
    "with open(\"CrimeGrade_6.csv\", 'w') as csvFile:\n",
    "        wr = csv.DictWriter(csvFile, fieldnames=col_names)\n",
    "        wr.writeheader()\n",
    "        for ele in data6:\n",
    "            wr.writerow(ele)"
   ]
  },
  {
   "cell_type": "code",
   "execution_count": 78,
   "id": "5436e87b-ae12-4913-9663-0a3f3cf93786",
   "metadata": {},
   "outputs": [],
   "source": [
    "list7 = addresses[6000:7000]\n",
    "data7 = generateData(list7)\n",
    "with open(\"CrimeGrade_7.csv\", 'w') as csvFile:\n",
    "        wr = csv.DictWriter(csvFile, fieldnames=col_names)\n",
    "        wr.writeheader()\n",
    "        for ele in data7:\n",
    "            wr.writerow(ele)"
   ]
  },
  {
   "cell_type": "code",
   "execution_count": 77,
   "id": "a1f54f16-1cff-480f-bc0f-8bfd95c01ffb",
   "metadata": {},
   "outputs": [],
   "source": [
    "list8 = addresses[7000:8000]\n",
    "data8 = generateData(list8)\n",
    "with open(\"CrimeGrade_8.csv\", 'w') as csvFile:\n",
    "        wr = csv.DictWriter(csvFile, fieldnames=col_names)\n",
    "        wr.writeheader()\n",
    "        for ele in data8:\n",
    "            wr.writerow(ele)"
   ]
  },
  {
   "cell_type": "code",
   "execution_count": 127,
   "id": "df70815c-50a0-4334-a2bb-892614c838b3",
   "metadata": {},
   "outputs": [],
   "source": [
    "list9 = addresses[8000:9000]\n",
    "data9 = generateData(list9)\n",
    "with open(\"CrimeGrade_9.csv\", 'w') as csvFile:\n",
    "        wr = csv.DictWriter(csvFile, fieldnames=col_names)\n",
    "        wr.writeheader()\n",
    "        for ele in data9:\n",
    "            wr.writerow(ele)"
   ]
  },
  {
   "cell_type": "code",
   "execution_count": 128,
   "id": "f9cbd086-1b2a-48e2-877d-7a825c44c72d",
   "metadata": {},
   "outputs": [],
   "source": [
    "list10 = addresses[9000:10000]\n",
    "data10 = generateData(list10)\n",
    "with open(\"CrimeGrade_10.csv\", 'w') as csvFile:\n",
    "        wr = csv.DictWriter(csvFile, fieldnames=col_names)\n",
    "        wr.writeheader()\n",
    "        for ele in data10:\n",
    "            wr.writerow(ele)"
   ]
  },
  {
   "cell_type": "code",
   "execution_count": 158,
   "id": "b380ec0c-e6d9-4b3d-9bc3-3c61ed359480",
   "metadata": {},
   "outputs": [
    {
     "name": "stdout",
     "output_type": "stream",
     "text": [
      "https://crimegrade.org/safest-places-in-east-hartford-ct/ HTTP Error 404: Not Found\n",
      "https://crimegrade.org/safest-places-in-east-hartford-ct/ HTTP Error 404: Not Found\n",
      "https://crimegrade.org/safest-places-in-east-hartford-ct/ HTTP Error 404: Not Found\n",
      "https://crimegrade.org/safest-places-in-east-hartford-ct/ HTTP Error 404: Not Found\n",
      "https://crimegrade.org/safest-places-in-east-pittsburgh-pa/ HTTP Error 404: Not Found\n",
      "https://crimegrade.org/safest-places-in-east-providence-ri/ HTTP Error 404: Not Found\n",
      "https://crimegrade.org/safest-places-in-east-rochester-ny/ HTTP Error 404: Not Found\n",
      "https://crimegrade.org/safest-places-in-east-syracuse-ny/ HTTP Error 404: Not Found\n"
     ]
    }
   ],
   "source": [
    "list11 = addresses[10000:11000]\n",
    "data11 = generateData(list11)\n",
    "with open(\"CrimeGrade_11.csv\", 'w') as csvFile:\n",
    "        wr = csv.DictWriter(csvFile, fieldnames=col_names)\n",
    "        wr.writeheader()\n",
    "        for ele in data11:\n",
    "            wr.writerow(ele)"
   ]
  },
  {
   "cell_type": "code",
   "execution_count": 132,
   "id": "9cb0ed24-a5a7-4c28-9f2c-5d4eac6be764",
   "metadata": {},
   "outputs": [],
   "source": [
    "list12 = addresses[11000:12000]\n",
    "data12 = generateData(list12)\n",
    "with open(\"CrimeGrade_12.csv\", 'w') as csvFile:\n",
    "        wr = csv.DictWriter(csvFile, fieldnames=col_names)\n",
    "        wr.writeheader()\n",
    "        for ele in data12:\n",
    "            wr.writerow(ele)"
   ]
  },
  {
   "cell_type": "code",
   "execution_count": null,
   "id": "ca7300ec-8cf6-4508-9b8e-cf0efb1e4f68",
   "metadata": {},
   "outputs": [],
   "source": []
  },
  {
   "cell_type": "code",
   "execution_count": 133,
   "id": "4a35e9d3-5516-4f9f-9ceb-abbe010604f8",
   "metadata": {},
   "outputs": [],
   "source": [
    "list13 = addresses[12000:13000]\n",
    "data13 = generateData(list13)\n",
    "with open(\"CrimeGrade_13.csv\", 'w') as csvFile:\n",
    "        wr = csv.DictWriter(csvFile, fieldnames=col_names)\n",
    "        wr.writeheader()\n",
    "        for ele in data13:\n",
    "            wr.writerow(ele)"
   ]
  },
  {
   "cell_type": "code",
   "execution_count": 134,
   "id": "1f8fd09f-c6c9-4e87-8566-5f6c95eed7d7",
   "metadata": {},
   "outputs": [],
   "source": [
    "list14 = addresses[13000:14000]\n",
    "data14 = generateData(list14)\n",
    "with open(\"CrimeGrade_14.csv\", 'w') as csvFile:\n",
    "        wr = csv.DictWriter(csvFile, fieldnames=col_names)\n",
    "        wr.writeheader()\n",
    "        for ele in data14:\n",
    "            wr.writerow(ele)"
   ]
  },
  {
   "cell_type": "code",
   "execution_count": 136,
   "id": "93c22baf-698e-455c-a937-5fe3028d7cfc",
   "metadata": {},
   "outputs": [],
   "source": [
    "list15 = addresses[14000:15000]\n",
    "data15 = generateData(list15)\n",
    "with open(\"CrimeGrade_15.csv\", 'w') as csvFile:\n",
    "        wr = csv.DictWriter(csvFile, fieldnames=col_names)\n",
    "        wr.writeheader()\n",
    "        for ele in data15:\n",
    "            wr.writerow(ele)"
   ]
  },
  {
   "cell_type": "code",
   "execution_count": 137,
   "id": "1136edc9-f80c-450f-bb98-f47522a3bf31",
   "metadata": {},
   "outputs": [],
   "source": [
    "list16 = addresses[15000:16000]\n",
    "data16 = generateData(list16)\n",
    "with open(\"CrimeGrade_16.csv\", 'w') as csvFile:\n",
    "        wr = csv.DictWriter(csvFile, fieldnames=col_names)\n",
    "        wr.writeheader()\n",
    "        for ele in data16:\n",
    "            wr.writerow(ele)"
   ]
  },
  {
   "cell_type": "code",
   "execution_count": 138,
   "id": "043e6966-1275-4e96-b610-a26c5e08e000",
   "metadata": {},
   "outputs": [],
   "source": [
    "list17 = addresses[16000:17000]\n",
    "data17 = generateData(list17)\n",
    "with open(\"CrimeGrade_17.csv\", 'w') as csvFile:\n",
    "        wr = csv.DictWriter(csvFile, fieldnames=col_names)\n",
    "        wr.writeheader()\n",
    "        for ele in data17:\n",
    "            wr.writerow(ele)"
   ]
  },
  {
   "cell_type": "code",
   "execution_count": 139,
   "id": "5a5b19cc-b406-420a-aca1-c4e5ba21c2d6",
   "metadata": {},
   "outputs": [],
   "source": [
    "list18 = addresses[17000:18000]\n",
    "data18 = generateData(list18)\n",
    "with open(\"CrimeGrade_18.csv\", 'w') as csvFile:\n",
    "        wr = csv.DictWriter(csvFile, fieldnames=col_names)\n",
    "        wr.writeheader()\n",
    "        for ele in data18:\n",
    "            wr.writerow(ele)"
   ]
  },
  {
   "cell_type": "code",
   "execution_count": 140,
   "id": "960c14f8-7c8b-40c1-830a-ed9b3573e783",
   "metadata": {},
   "outputs": [],
   "source": [
    "list19 = addresses[18000:19000]\n",
    "data19 = generateData(list19)\n",
    "with open(\"CrimeGrade_19.csv\", 'w') as csvFile:\n",
    "        wr = csv.DictWriter(csvFile, fieldnames=col_names)\n",
    "        wr.writeheader()\n",
    "        for ele in data19:\n",
    "            wr.writerow(ele)"
   ]
  },
  {
   "cell_type": "code",
   "execution_count": 159,
   "id": "fd3e012c-b21f-4191-9b5e-aba5dd0b85b8",
   "metadata": {},
   "outputs": [
    {
     "name": "stdout",
     "output_type": "stream",
     "text": [
      "https://crimegrade.org/safest-places-in-lake-dallas-tx/ HTTP Error 404: Not Found\n"
     ]
    }
   ],
   "source": [
    "list20 = addresses[19000:20000]\n",
    "data20 = generateData(list20)\n",
    "with open(\"CrimeGrade_20.csv\", 'w') as csvFile:\n",
    "        wr = csv.DictWriter(csvFile, fieldnames=col_names)\n",
    "        wr.writeheader()\n",
    "        for ele in data20:\n",
    "            wr.writerow(ele)"
   ]
  },
  {
   "cell_type": "code",
   "execution_count": 142,
   "id": "516372b2-98f6-49c5-82ac-1e09113e902b",
   "metadata": {},
   "outputs": [],
   "source": [
    "list21 = addresses[20000:21000]\n",
    "data21 = generateData(list21)\n",
    "with open(\"CrimeGrade_21.csv\", 'w') as csvFile:\n",
    "        wr = csv.DictWriter(csvFile, fieldnames=col_names)\n",
    "        wr.writeheader()\n",
    "        for ele in data21:\n",
    "            wr.writerow(ele)"
   ]
  },
  {
   "cell_type": "code",
   "execution_count": 143,
   "id": "08786ea1-2757-4251-97d0-4ca824fc4146",
   "metadata": {},
   "outputs": [],
   "source": [
    "list22 = addresses[21000:22000]\n",
    "data22 = generateData(list22)\n",
    "with open(\"CrimeGrade_22.csv\", 'w') as csvFile:\n",
    "        wr = csv.DictWriter(csvFile, fieldnames=col_names)\n",
    "        wr.writeheader()\n",
    "        for ele in data22:\n",
    "            wr.writerow(ele)"
   ]
  },
  {
   "cell_type": "code",
   "execution_count": 144,
   "id": "1db0d12a-7865-4ed5-9974-d15efd1e3242",
   "metadata": {},
   "outputs": [],
   "source": [
    "list23 = addresses[22000:23000]\n",
    "data23 = generateData(list23)\n",
    "with open(\"CrimeGrade_23.csv\", 'w') as csvFile:\n",
    "        wr = csv.DictWriter(csvFile, fieldnames=col_names)\n",
    "        wr.writeheader()\n",
    "        for ele in data23:\n",
    "            wr.writerow(ele)"
   ]
  },
  {
   "cell_type": "code",
   "execution_count": 145,
   "id": "2923e9ec-c77d-46b4-b7dc-ac560af964c3",
   "metadata": {},
   "outputs": [],
   "source": [
    "list24 = addresses[23000:24000]\n",
    "data24 = generateData(list24)\n",
    "with open(\"CrimeGrade_24.csv\", 'w') as csvFile:\n",
    "        wr = csv.DictWriter(csvFile, fieldnames=col_names)\n",
    "        wr.writeheader()\n",
    "        for ele in data24:\n",
    "            wr.writerow(ele)"
   ]
  },
  {
   "cell_type": "code",
   "execution_count": 146,
   "id": "77222b97-20e5-4d4b-9e40-722d1a1c668c",
   "metadata": {},
   "outputs": [],
   "source": [
    "list25 = addresses[24000:25000]\n",
    "data25 = generateData(list25)\n",
    "with open(\"CrimeGrade_25.csv\", 'w') as csvFile:\n",
    "        wr = csv.DictWriter(csvFile, fieldnames=col_names)\n",
    "        wr.writeheader()\n",
    "        for ele in data25:\n",
    "            wr.writerow(ele)"
   ]
  },
  {
   "cell_type": "code",
   "execution_count": 44,
   "id": "e9263494-3c40-4669-96db-376474584c07",
   "metadata": {},
   "outputs": [
    {
     "name": "stdout",
     "output_type": "stream",
     "text": [
      "https://crimegrade.org/safest-places-in-new-hartford-ct/ HTTP Error 404: Not Found\n",
      "https://crimegrade.org/safest-places-in-new-philadelphia-pa/ HTTP Error 404: Not Found\n"
     ]
    }
   ],
   "source": [
    "list26 = addresses[25000:26000]\n",
    "data26 = generateData(list26)\n",
    "with open(\"CrimeGrade_26.csv\", 'w') as csvFile:\n",
    "        wr = csv.DictWriter(csvFile, fieldnames=col_names)\n",
    "        wr.writeheader()\n",
    "        for ele in data26:\n",
    "            wr.writerow(ele)"
   ]
  },
  {
   "cell_type": "code",
   "execution_count": 45,
   "id": "dbf9f6e7-6504-4a85-8878-520e193a1368",
   "metadata": {},
   "outputs": [
    {
     "name": "stdout",
     "output_type": "stream",
     "text": [
      "https://crimegrade.org/safest-places-in-north-charleston-sc/ HTTP Error 404: Not Found\n",
      "https://crimegrade.org/safest-places-in-north-charleston-sc/ HTTP Error 404: Not Found\n",
      "https://crimegrade.org/safest-places-in-north-charleston-sc/ HTTP Error 404: Not Found\n",
      "https://crimegrade.org/safest-places-in-north-charleston-sc/ HTTP Error 404: Not Found\n",
      "https://crimegrade.org/safest-places-in-north-charleston-sc/ HTTP Error 404: Not Found\n",
      "https://crimegrade.org/safest-places-in-north-chicago-il/ HTTP Error 404: Not Found\n",
      "https://crimegrade.org/safest-places-in-north-chicago-il/ HTTP Error 404: Not Found\n",
      "https://crimegrade.org/safest-places-in-north-fort-myers-fl/ HTTP Error 404: Not Found\n",
      "https://crimegrade.org/safest-places-in-north-fort-myers-fl/ HTTP Error 404: Not Found\n",
      "https://crimegrade.org/safest-places-in-north-fort-myers-fl/ HTTP Error 404: Not Found\n",
      "https://crimegrade.org/safest-places-in-north-las-vegas-nv/ HTTP Error 404: Not Found\n",
      "https://crimegrade.org/safest-places-in-north-las-vegas-nv/ HTTP Error 404: Not Found\n",
      "https://crimegrade.org/safest-places-in-north-las-vegas-nv/ HTTP Error 404: Not Found\n",
      "https://crimegrade.org/safest-places-in-north-las-vegas-nv/ HTTP Error 404: Not Found\n",
      "https://crimegrade.org/safest-places-in-north-las-vegas-nv/ HTTP Error 404: Not Found\n",
      "https://crimegrade.org/safest-places-in-north-las-vegas-nv/ HTTP Error 404: Not Found\n",
      "https://crimegrade.org/safest-places-in-north-las-vegas-nv/ HTTP Error 404: Not Found\n",
      "https://crimegrade.org/safest-places-in-north-las-vegas-nv/ HTTP Error 404: Not Found\n",
      "https://crimegrade.org/safest-places-in-north-las-vegas-nv/ HTTP Error 404: Not Found\n",
      "https://crimegrade.org/safest-places-in-north-las-vegas-nv/ HTTP Error 404: Not Found\n",
      "https://crimegrade.org/safest-places-in-north-little-rock-ar/ HTTP Error 404: Not Found\n",
      "https://crimegrade.org/safest-places-in-north-little-rock-ar/ HTTP Error 404: Not Found\n",
      "https://crimegrade.org/safest-places-in-north-little-rock-ar/ HTTP Error 404: Not Found\n",
      "https://crimegrade.org/safest-places-in-north-little-rock-ar/ HTTP Error 404: Not Found\n",
      "https://crimegrade.org/safest-places-in-north-little-rock-ar/ HTTP Error 404: Not Found\n",
      "https://crimegrade.org/safest-places-in-north-little-rock-ar/ HTTP Error 404: Not Found\n",
      "https://crimegrade.org/safest-places-in-north-little-rock-ar/ HTTP Error 404: Not Found\n",
      "https://crimegrade.org/safest-places-in-north-little-rock-ar/ HTTP Error 404: Not Found\n",
      "https://crimegrade.org/safest-places-in-north-little-rock-ar/ HTTP Error 404: Not Found\n",
      "https://crimegrade.org/safest-places-in-north-little-rock-ar/ HTTP Error 404: Not Found\n",
      "https://crimegrade.org/safest-places-in-north-providence-ri/ HTTP Error 404: Not Found\n"
     ]
    }
   ],
   "source": [
    "list27 = addresses[26000:27000]\n",
    "data27 = generateData(list27)\n",
    "with open(\"CrimeGrade_27.csv\", 'w') as csvFile:\n",
    "        wr = csv.DictWriter(csvFile, fieldnames=col_names)\n",
    "        wr.writeheader()\n",
    "        for ele in data27:\n",
    "            wr.writerow(ele)"
   ]
  },
  {
   "cell_type": "code",
   "execution_count": 46,
   "id": "3408142a-f096-48e1-ba5d-af7762734327",
   "metadata": {},
   "outputs": [],
   "source": [
    "list28 = addresses[27000:28000]\n",
    "data28 = generateData(list28)\n",
    "with open(\"CrimeGrade_28.csv\", 'w') as csvFile:\n",
    "        wr = csv.DictWriter(csvFile, fieldnames=col_names)\n",
    "        wr.writeheader()\n",
    "        for ele in data28:\n",
    "            wr.writerow(ele)"
   ]
  },
  {
   "cell_type": "code",
   "execution_count": 47,
   "id": "7f3ebb24",
   "metadata": {},
   "outputs": [],
   "source": [
    "list29 = addresses[28000:29000]\n",
    "data29 = generateData(list29)\n",
    "with open(\"CrimeGrade_29.csv\", 'w') as csvFile:\n",
    "        wr = csv.DictWriter(csvFile, fieldnames=col_names)\n",
    "        wr.writeheader()\n",
    "        for ele in data29:\n",
    "            wr.writerow(ele)"
   ]
  },
  {
   "cell_type": "code",
   "execution_count": 48,
   "id": "9ee2f2fb",
   "metadata": {},
   "outputs": [],
   "source": [
    "list30 = addresses[29000:30000]\n",
    "data30 = generateData(list30)\n",
    "with open(\"CrimeGrade_30.csv\", 'w') as csvFile:\n",
    "        wr = csv.DictWriter(csvFile, fieldnames=col_names)\n",
    "        wr.writeheader()\n",
    "        for ele in data30:\n",
    "            wr.writerow(ele)"
   ]
  },
  {
   "cell_type": "code",
   "execution_count": 49,
   "id": "55279c71",
   "metadata": {},
   "outputs": [],
   "source": [
    "list31 = addresses[30000:31000]\n",
    "data31 = generateData(list31)\n",
    "with open(\"CrimeGrade_31.csv\", 'w') as csvFile:\n",
    "        wr = csv.DictWriter(csvFile, fieldnames=col_names)\n",
    "        wr.writeheader()\n",
    "        for ele in data31:\n",
    "            wr.writerow(ele)"
   ]
  },
  {
   "cell_type": "code",
   "execution_count": 50,
   "id": "5cedf606",
   "metadata": {},
   "outputs": [],
   "source": [
    "list32 = addresses[31000:32000]\n",
    "data32 = generateData(list32)\n",
    "with open(\"CrimeGrade_32.csv\", 'w') as csvFile:\n",
    "        wr = csv.DictWriter(csvFile, fieldnames=col_names)\n",
    "        wr.writeheader()\n",
    "        for ele in data32:\n",
    "            wr.writerow(ele)"
   ]
  },
  {
   "cell_type": "code",
   "execution_count": 51,
   "id": "6f124856",
   "metadata": {},
   "outputs": [],
   "source": [
    "list33 = addresses[32000:33000]\n",
    "data33 = generateData(list33)\n",
    "with open(\"CrimeGrade_33.csv\", 'w') as csvFile:\n",
    "        wr = csv.DictWriter(csvFile, fieldnames=col_names)\n",
    "        wr.writeheader()\n",
    "        for ele in data33:\n",
    "            wr.writerow(ele)"
   ]
  },
  {
   "cell_type": "code",
   "execution_count": 52,
   "id": "9219b6aa",
   "metadata": {},
   "outputs": [],
   "source": [
    "list34 = addresses[33000:34000]\n",
    "data34 = generateData(list34)\n",
    "with open(\"CrimeGrade_34.csv\", 'w') as csvFile:\n",
    "        wr = csv.DictWriter(csvFile, fieldnames=col_names)\n",
    "        wr.writeheader()\n",
    "        for ele in data34:\n",
    "            wr.writerow(ele)"
   ]
  },
  {
   "cell_type": "code",
   "execution_count": 53,
   "id": "f5abe0fa",
   "metadata": {},
   "outputs": [
    {
     "name": "stdout",
     "output_type": "stream",
     "text": [
      "https://crimegrade.org/safest-places-in-south-houston-tx/ HTTP Error 404: Not Found\n",
      "https://crimegrade.org/safest-places-in-south-milwaukee-wi/ HTTP Error 404: Not Found\n",
      "https://crimegrade.org/safest-places-in-south-san-francisco-ca/ HTTP Error 404: Not Found\n",
      "https://crimegrade.org/safest-places-in-south-san-francisco-ca/ HTTP Error 404: Not Found\n"
     ]
    }
   ],
   "source": [
    "list35 = addresses[34000:35000]\n",
    "data35 = generateData(list35)\n",
    "with open(\"CrimeGrade_35.csv\", 'w') as csvFile:\n",
    "        wr = csv.DictWriter(csvFile, fieldnames=col_names)\n",
    "        wr.writeheader()\n",
    "        for ele in data35:\n",
    "            wr.writerow(ele)"
   ]
  },
  {
   "cell_type": "code",
   "execution_count": 54,
   "id": "82706754-a4b7-4c56-9095-d1e5a89b0a04",
   "metadata": {},
   "outputs": [],
   "source": [
    "list36 = addresses[35000:36000]\n",
    "data36 = generateData(list36)\n",
    "with open(\"CrimeGrade_36.csv\", 'w') as csvFile:\n",
    "        wr = csv.DictWriter(csvFile, fieldnames=col_names)\n",
    "        wr.writeheader()\n",
    "        for ele in data36:\n",
    "            wr.writerow(ele)"
   ]
  },
  {
   "cell_type": "code",
   "execution_count": 55,
   "id": "65fb6074-6b36-4d43-b13b-99ad9851ae4c",
   "metadata": {},
   "outputs": [],
   "source": [
    "list37 = addresses[36000:37000]\n",
    "data37 = generateData(list37)\n",
    "with open(\"CrimeGrade_37.csv\", 'w') as csvFile:\n",
    "        wr = csv.DictWriter(csvFile, fieldnames=col_names)\n",
    "        wr.writeheader()\n",
    "        for ele in data37:\n",
    "            wr.writerow(ele)"
   ]
  },
  {
   "cell_type": "code",
   "execution_count": 59,
   "id": "e076fa9d-953c-473a-a673-2176af697903",
   "metadata": {},
   "outputs": [],
   "source": [
    "list38 = addresses[37000:38000]\n",
    "data38 = generateData(list38)\n",
    "with open(\"CrimeGrade_38.csv\", 'w') as csvFile:\n",
    "        wr = csv.DictWriter(csvFile, fieldnames=col_names)\n",
    "        wr.writeheader()\n",
    "        for ele in data38:\n",
    "            wr.writerow(ele)"
   ]
  },
  {
   "cell_type": "code",
   "execution_count": 60,
   "id": "cc962af3-e2f9-403a-905c-bf0fc98477b4",
   "metadata": {},
   "outputs": [
    {
     "name": "stdout",
     "output_type": "stream",
     "text": [
      "https://crimegrade.org/safest-places-in-west-chicago-il/ HTTP Error 404: Not Found\n",
      "https://crimegrade.org/safest-places-in-west-chicago-il/ HTTP Error 404: Not Found\n",
      "https://crimegrade.org/safest-places-in-west-columbia-sc/ HTTP Error 404: Not Found\n",
      "https://crimegrade.org/safest-places-in-west-columbia-sc/ HTTP Error 404: Not Found\n",
      "https://crimegrade.org/safest-places-in-west-columbia-sc/ HTTP Error 404: Not Found\n",
      "https://crimegrade.org/safest-places-in-west-columbia-sc/ HTTP Error 404: Not Found\n",
      "https://crimegrade.org/safest-places-in-west-des-moines-ia/ HTTP Error 404: Not Found\n",
      "https://crimegrade.org/safest-places-in-west-des-moines-ia/ HTTP Error 404: Not Found\n",
      "https://crimegrade.org/safest-places-in-west-hartford-ct/ HTTP Error 404: Not Found\n",
      "https://crimegrade.org/safest-places-in-west-hartford-ct/ HTTP Error 404: Not Found\n",
      "https://crimegrade.org/safest-places-in-west-hartford-ct/ HTTP Error 404: Not Found\n",
      "https://crimegrade.org/safest-places-in-west-hartford-ct/ HTTP Error 404: Not Found\n",
      "https://crimegrade.org/safest-places-in-west-hartford-ct/ HTTP Error 404: Not Found\n",
      "https://crimegrade.org/safest-places-in-west-hartford-ct/ HTTP Error 404: Not Found\n",
      "https://crimegrade.org/safest-places-in-west-hartford-ct/ HTTP Error 404: Not Found\n",
      "https://crimegrade.org/safest-places-in-west-sacramento-ca/ HTTP Error 404: Not Found\n",
      "https://crimegrade.org/safest-places-in-west-sacramento-ca/ HTTP Error 404: Not Found\n",
      "https://crimegrade.org/safest-places-in-west-sacramento-ca/ HTTP Error 404: Not Found\n",
      "https://crimegrade.org/safest-places-in-west-sacramento-ca/ HTTP Error 404: Not Found\n"
     ]
    }
   ],
   "source": [
    "list39 = addresses[38000:39000]\n",
    "data39 = generateData(list39)\n",
    "with open(\"CrimeGrade_39.csv\", 'w') as csvFile:\n",
    "        wr = csv.DictWriter(csvFile, fieldnames=col_names)\n",
    "        wr.writeheader()\n",
    "        for ele in data39:\n",
    "            wr.writerow(ele)"
   ]
  },
  {
   "cell_type": "code",
   "execution_count": 61,
   "id": "0fc05036-e856-49f8-aca5-4e1debdbd324",
   "metadata": {},
   "outputs": [],
   "source": [
    "list40 = addresses[39000:40000]\n",
    "data40 = generateData(list40)\n",
    "with open(\"CrimeGrade_40.csv\", 'w') as csvFile:\n",
    "        wr = csv.DictWriter(csvFile, fieldnames=col_names)\n",
    "        wr.writeheader()\n",
    "        for ele in data40:\n",
    "            wr.writerow(ele)"
   ]
  },
  {
   "cell_type": "code",
   "execution_count": 62,
   "id": "dfb5f852-b292-412f-9e61-f69df7d693b7",
   "metadata": {},
   "outputs": [],
   "source": [
    "list41 = addresses[40000:41000]\n",
    "data41 = generateData(list41)\n",
    "with open(\"CrimeGrade_41.csv\", 'w') as csvFile:\n",
    "        wr = csv.DictWriter(csvFile, fieldnames=col_names)\n",
    "        wr.writeheader()\n",
    "        for ele in data41:\n",
    "            wr.writerow(ele)"
   ]
  },
  {
   "cell_type": "code",
   "execution_count": 63,
   "id": "deeda704-4532-4e85-b434-e76cd289677f",
   "metadata": {},
   "outputs": [
    {
     "name": "stdout",
     "output_type": "stream",
     "text": [
      "https://crimegrade.org/safest-places-in-lake-st-louis-mo/ HTTP Error 404: Not Found\n"
     ]
    }
   ],
   "source": [
    "list42 = addresses[41000:]\n",
    "data42 = generateData(list42)\n",
    "with open(\"CrimeGrade_42.csv\", 'w') as csvFile:\n",
    "        wr = csv.DictWriter(csvFile, fieldnames=col_names)\n",
    "        wr.writeheader()\n",
    "        for ele in data42:\n",
    "            wr.writerow(ele)"
   ]
  },
  {
   "cell_type": "code",
   "execution_count": 64,
   "id": "1471d299-2ac2-4f17-835a-320f1ee020f4",
   "metadata": {},
   "outputs": [
    {
     "data": {
      "text/plain": [
       "[{'Zipcode': '16820', 'City': 'aaronsburg-pa'},\n",
       " {'Zipcode': '36310', 'City': 'abbeville-al'},\n",
       " {'Zipcode': '31001', 'City': 'abbeville-ga'},\n",
       " {'Zipcode': '70510', 'City': 'abbeville-la'},\n",
       " {'Zipcode': '70511', 'City': 'abbeville-la'},\n",
       " {'Zipcode': '38601', 'City': 'abbeville-ms'},\n",
       " {'Zipcode': '29620', 'City': 'abbeville-sc'},\n",
       " {'Zipcode': '04406', 'City': 'abbot-me'},\n",
       " {'Zipcode': '54405', 'City': 'abbotsford-wi'},\n",
       " {'Zipcode': '17301', 'City': 'abbottstown-pa'}]"
      ]
     },
     "execution_count": 64,
     "metadata": {},
     "output_type": "execute_result"
    }
   ],
   "source": [
    "addresses[:10]"
   ]
  },
  {
   "cell_type": "code",
   "execution_count": 77,
   "id": "dcd0d9e7-5373-4d45-b321-8ec8660e7240",
   "metadata": {},
   "outputs": [],
   "source": [
    "def findZipUrl(zipcode):\n",
    "    url = \"https://crimegrade.org/safest-places-in-\" + zipcode + \"/\"\n",
    "    return url"
   ]
  },
  {
   "cell_type": "code",
   "execution_count": 74,
   "id": "7c3c3d01-123e-4d42-9255-64bd3bf3dc26",
   "metadata": {},
   "outputs": [],
   "source": [
    "def generate_soup2(url):\n",
    "    try:\n",
    "        req = Request(url, headers={'User-Agent': 'Mozilla/5.0'})\n",
    "        webpage = urlopen(req).read()\n",
    "        soup = BeautifulSoup(webpage, \"html.parser\")\n",
    "        return soup\n",
    "    except Exception as e:\n",
    "        print(url, e)"
   ]
  },
  {
   "cell_type": "code",
   "execution_count": 70,
   "id": "0e1cfbd0-8a36-47c7-b1d8-041e43c82da7",
   "metadata": {},
   "outputs": [],
   "source": [
    "def generateData2(addresses):\n",
    "    data = []\n",
    "    for address in addresses:\n",
    "        zipcode = address[\"Zipcode\"]\n",
    "        city = address[\"City\"]\n",
    "        url = findSingleUrl(city)\n",
    "        soup = generate_soup2(url)\n",
    "        if soup == None:\n",
    "            url = findZipUrl(zipcode)\n",
    "            soup = generate_soup(url)\n",
    "            dict2 = findTotalScores(soup)\n",
    "            dict2[\"Zipcode\"] = zipcode\n",
    "            dict2[\"City\"] = city\n",
    "            data.append(dict2)\n",
    "    return data"
   ]
  },
  {
   "cell_type": "code",
   "execution_count": 72,
   "id": "19f4783f-e7b9-4a4e-ae34-faa677f19dd3",
   "metadata": {},
   "outputs": [],
   "source": [
    "list11 = addresses[10000:11000]"
   ]
  },
  {
   "cell_type": "code",
   "execution_count": 81,
   "id": "c854524b-9945-4089-beef-5f15a4528edc",
   "metadata": {},
   "outputs": [],
   "source": [
    "add = [\"east-harford-ct\", \"east-pittsburgh-pa\", \"east-providence-ri\", \"east-rochester-ny\", \"north-syracuse-ny\",\n",
    "                \"north-charleson-sc\",\"north-chicago-il\", \"north-fort-meyers-fl\", \"north-las-vegas-nv\", \"north-little-rock-ar\",\n",
    "                \"north-providence-ri\", \"south-houston-tx\", \"south-milewaukee-wi\", \"south-san-francisco-ca\",\n",
    "                \"west-columbia-sc\", \"west-des-moines-ia\", \"west-hartford-ct\", \"west-sacramento-ca\", \"west-chicago-il\"]"
   ]
  },
  {
   "cell_type": "code",
   "execution_count": 84,
   "id": "fbc83b3c-db30-4e71-98da-26070a67174a",
   "metadata": {},
   "outputs": [
    {
     "name": "stdout",
     "output_type": "stream",
     "text": [
      "https://crimegrade.org/safest-places-in-60086/ HTTP Error 404: Not Found\n",
      "https://crimegrade.org/safest-places-in-89033/ HTTP Error 404: Not Found\n",
      "https://crimegrade.org/safest-places-in-89036/ HTTP Error 404: Not Found\n",
      "https://crimegrade.org/safest-places-in-89087/ HTTP Error 404: Not Found\n",
      "https://crimegrade.org/safest-places-in-72115/ HTTP Error 404: Not Found\n",
      "https://crimegrade.org/safest-places-in-72124/ HTTP Error 404: Not Found\n",
      "https://crimegrade.org/safest-places-in-72190/ HTTP Error 404: Not Found\n",
      "https://crimegrade.org/safest-places-in-72199/ HTTP Error 404: Not Found\n",
      "https://crimegrade.org/safest-places-in-72198/ HTTP Error 404: Not Found\n",
      "https://crimegrade.org/safest-places-in-94083/ HTTP Error 404: Not Found\n",
      "https://crimegrade.org/safest-places-in-60186/ HTTP Error 404: Not Found\n",
      "https://crimegrade.org/safest-places-in-29171/ HTTP Error 404: Not Found\n",
      "https://crimegrade.org/safest-places-in-06127/ HTTP Error 404: Not Found\n",
      "https://crimegrade.org/safest-places-in-06133/ HTTP Error 404: Not Found\n",
      "https://crimegrade.org/safest-places-in-06137/ HTTP Error 404: Not Found\n",
      "https://crimegrade.org/safest-places-in-95798/ HTTP Error 404: Not Found\n",
      "https://crimegrade.org/safest-places-in-95799/ HTTP Error 404: Not Found\n"
     ]
    }
   ],
   "source": [
    "data = []\n",
    "for address in addresses:\n",
    "    city = address[\"City\"]\n",
    "    zipcode = address[\"Zipcode\"]\n",
    "    for element in add:\n",
    "        if city == element:\n",
    "            url = findZipUrl(zipcode)\n",
    "            soup = generate_soup2(url)\n",
    "            if soup != None:\n",
    "                dict2 = findTotalScores(soup)\n",
    "                dict2[\"Zipcode\"] = zipcode\n",
    "                dict2[\"City\"] = city\n",
    "                data.append(dict2)"
   ]
  },
  {
   "cell_type": "code",
   "execution_count": 87,
   "id": "2617ee1b-06c5-4c37-840f-2bede77506c6",
   "metadata": {},
   "outputs": [],
   "source": [
    "with open(\"CrimeGrade_43.csv\", 'w') as csvFile:\n",
    "        wr = csv.DictWriter(csvFile, fieldnames=col_names)\n",
    "        wr.writeheader()\n",
    "        for ele in data:\n",
    "            wr.writerow(ele)"
   ]
  },
  {
   "cell_type": "code",
   "execution_count": null,
   "id": "475715b6-778e-4626-bf77-37a1ec24e074",
   "metadata": {},
   "outputs": [],
   "source": []
  }
 ],
 "metadata": {
  "kernelspec": {
   "display_name": "MyEnv",
   "language": "python",
   "name": "myenv"
  },
  "language_info": {
   "codemirror_mode": {
    "name": "ipython",
    "version": 3
   },
   "file_extension": ".py",
   "mimetype": "text/x-python",
   "name": "python",
   "nbconvert_exporter": "python",
   "pygments_lexer": "ipython3",
   "version": "3.7.11"
  }
 },
 "nbformat": 4,
 "nbformat_minor": 5
}
